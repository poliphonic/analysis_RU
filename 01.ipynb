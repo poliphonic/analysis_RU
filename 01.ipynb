{
 "cells": [
  {
   "cell_type": "markdown",
   "metadata": {
    "id": "Kw01g10zBjZr"
   },
   "source": [
    "## Урок 1. Алгоритм линейной регрессии. Градиентный спуск"
   ]
  },
  {
   "cell_type": "code",
   "execution_count": 1,
   "metadata": {
    "id": "ak8b3KV45kVW"
   },
   "outputs": [],
   "source": [
    "import numpy as np\n",
    "import matplotlib.pyplot as plt"
   ]
  },
  {
   "cell_type": "markdown",
   "metadata": {
    "id": "VphnS-M8BjZ5"
   },
   "source": [
    "__Задача:__ предсказание баллов ЕГЭ ученика в зависимости от количества лет стажа его репетитора"
   ]
  },
  {
   "cell_type": "code",
   "execution_count": 2,
   "metadata": {
    "id": "i77tZbAd5plB",
    "outputId": "784cb9ea-d0b1-4633-8ded-80edaa795b76"
   },
   "outputs": [
    {
     "data": {
      "text/plain": [
       "array([[ 1,  1,  1,  1,  1,  1,  1,  1,  1,  1],\n",
       "       [ 1,  1,  2,  5,  3,  0,  5, 10,  1,  2]])"
      ]
     },
     "execution_count": 2,
     "metadata": {},
     "output_type": "execute_result"
    }
   ],
   "source": [
    "X = np.array([[1, 1, 1, 1, 1, 1, 1, 1, 1, 1],\n",
    "              [1, 1, 2, 5, 3, 0, 5, 10, 1, 2]])\n",
    "X"
   ]
  },
  {
   "cell_type": "code",
   "execution_count": 3,
   "metadata": {
    "colab": {
     "base_uri": "https://localhost:8080/",
     "height": 34
    },
    "id": "ejifaMBe6VaP",
    "outputId": "190a541b-5c6d-48f6-8982-b513de5d7606"
   },
   "outputs": [
    {
     "data": {
      "text/plain": [
       "(2, 10)"
      ]
     },
     "execution_count": 3,
     "metadata": {},
     "output_type": "execute_result"
    }
   ],
   "source": [
    "X.shape"
   ]
  },
  {
   "cell_type": "code",
   "execution_count": 4,
   "metadata": {
    "id": "VsNrKi1Q6Wmh"
   },
   "outputs": [],
   "source": [
    "y = [45, 55, 50, 55, 60, 35, 75, 80, 50, 60]"
   ]
  },
  {
   "cell_type": "markdown",
   "metadata": {
    "id": "KCwytUyLBjZ_"
   },
   "source": [
    "Уравнение прямой: $y = a*x + b$"
   ]
  },
  {
   "cell_type": "code",
   "execution_count": 5,
   "metadata": {
    "id": "NntLxvtU7CbH"
   },
   "outputs": [],
   "source": [
    "y_pred1 = 35 * np.ones(10) + X[1] * 5\n",
    "y_pred2 = 40 * np.ones(10) + X[1] * 7.5"
   ]
  },
  {
   "cell_type": "code",
   "execution_count": 6,
   "metadata": {
    "colab": {
     "base_uri": "https://localhost:8080/",
     "height": 282
    },
    "id": "OTikrodr6n-i",
    "outputId": "9c347927-ae0d-40ba-bcd7-fdd9de2688bf"
   },
   "outputs": [
    {
     "data": {
      "image/png": "[encoded data removed]",
      "text/plain": [
       "<Figure size 640x480 with 1 Axes>"
      ]
     },
     "metadata": {},
     "output_type": "display_data"
    }
   ],
   "source": [
    "plt.scatter(X[1], y)\n",
    "plt.plot(X[1], y_pred1, label='1')\n",
    "plt.plot(X[1], y_pred2, label='2')\n",
    "plt.legend()\n",
    "plt.show()"
   ]
  },
  {
   "cell_type": "markdown",
   "metadata": {
    "id": "PoGiEvgRBjaE"
   },
   "source": [
    "Простая ошибка:"
   ]
  },
  {
   "cell_type": "code",
   "execution_count": 7,
   "metadata": {
    "id": "zbsqjAxH9WqI",
    "outputId": "275ebf45-370d-4b10-d672-a515fab31e7c"
   },
   "outputs": [
    {
     "data": {
      "text/plain": [
       "(65.0, -60.0)"
      ]
     },
     "execution_count": 7,
     "metadata": {},
     "output_type": "execute_result"
    }
   ],
   "source": [
    "err1 = np.sum(y - y_pred1)\n",
    "err2 = np.sum(y - y_pred2)\n",
    "err1, err2"
   ]
  },
  {
   "cell_type": "markdown",
   "metadata": {
    "id": "mKomUlv3BjaG"
   },
   "source": [
    "MAE (Mean Absolute Error):"
   ]
  },
  {
   "cell_type": "code",
   "execution_count": 8,
   "metadata": {
    "id": "vUqCthPf9eYI",
    "outputId": "ae4eefa4-ba6b-4bee-a26d-fa573d9a70f9"
   },
   "outputs": [
    {
     "data": {
      "text/plain": [
       "(8.5, 9.0)"
      ]
     },
     "execution_count": 8,
     "metadata": {},
     "output_type": "execute_result"
    }
   ],
   "source": [
    "mae_1 = np.sum(np.abs(y - y_pred1)) / 10\n",
    "mae_2 = np.sum(np.abs(y - y_pred2)) / 10\n",
    "mae_1, mae_2"
   ]
  },
  {
   "cell_type": "markdown",
   "metadata": {
    "id": "QdkR8AXyBjaI"
   },
   "source": [
    "MSE (Mean Squared Error):"
   ]
  },
  {
   "cell_type": "code",
   "execution_count": 9,
   "metadata": {
    "id": "XTn2bZIg_EBS",
    "outputId": "ec71ad62-9b62-4308-fcd0-239f107d35c3"
   },
   "outputs": [
    {
     "data": {
      "text/plain": [
       "(97.5, 188.75)"
      ]
     },
     "execution_count": 9,
     "metadata": {},
     "output_type": "execute_result"
    }
   ],
   "source": [
    "mse_1 = np.mean((y - y_pred1) ** 2)\n",
    "mse_2 = np.mean((y - y_pred2) ** 2)\n",
    "mse_1, mse_2"
   ]
  },
  {
   "cell_type": "markdown",
   "metadata": {
    "id": "R4zHyZ2Da5HV"
   },
   "source": [
    "Метод наименьших квадратов (МНК):"
   ]
  },
  {
   "cell_type": "code",
   "execution_count": 10,
   "metadata": {
    "colab": {
     "base_uri": "https://localhost:8080/",
     "height": 34
    },
    "id": "GEeiext0BR1m",
    "outputId": "2a5e98e6-e201-4cf9-c113-bb207490b31e"
   },
   "outputs": [
    {
     "data": {
      "text/plain": [
       "(2, 10)"
      ]
     },
     "execution_count": 10,
     "metadata": {},
     "output_type": "execute_result"
    }
   ],
   "source": [
    "X.shape"
   ]
  },
  {
   "cell_type": "code",
   "execution_count": 11,
   "metadata": {
    "colab": {
     "base_uri": "https://localhost:8080/",
     "height": 34
    },
    "id": "j1BN1FZHBVo8",
    "outputId": "d5820bdf-e0a3-4de0-96ef-b73e9b43fd64"
   },
   "outputs": [
    {
     "data": {
      "text/plain": [
       "(10, 2)"
      ]
     },
     "execution_count": 11,
     "metadata": {},
     "output_type": "execute_result"
    }
   ],
   "source": [
    "X.T.shape"
   ]
  },
  {
   "cell_type": "code",
   "execution_count": 12,
   "metadata": {
    "id": "X6Jhs8W8BjaK",
    "outputId": "42e35057-8799-4927-8ee2-b320fa3e88e4"
   },
   "outputs": [
    {
     "data": {
      "text/plain": [
       "True"
      ]
     },
     "execution_count": 12,
     "metadata": {},
     "output_type": "execute_result"
    }
   ],
   "source": [
    "all(X @ y == np.dot(X, y))"
   ]
  },
  {
   "cell_type": "code",
   "execution_count": 13,
   "metadata": {
    "colab": {
     "base_uri": "https://localhost:8080/",
     "height": 34
    },
    "id": "mnyZzkaDBegD",
    "outputId": "368800a6-deef-46d0-b27f-d6eb5e46a743"
   },
   "outputs": [
    {
     "data": {
      "text/plain": [
       "array([45.0625,  3.8125])"
      ]
     },
     "execution_count": 13,
     "metadata": {},
     "output_type": "execute_result"
    }
   ],
   "source": [
    "W = np.linalg.inv(np.dot(X, X.T)) @ X @ y\n",
    "W"
   ]
  },
  {
   "cell_type": "code",
   "execution_count": 14,
   "metadata": {
    "id": "IukREVxDBjaM"
   },
   "outputs": [],
   "source": [
    "y_pred3 = W[0] * X[0] + W[1] * X[1]"
   ]
  },
  {
   "cell_type": "code",
   "execution_count": 15,
   "metadata": {
    "colab": {
     "base_uri": "https://localhost:8080/",
     "height": 282
    },
    "id": "Lyg-J3H7Bnv5",
    "outputId": "7701dd28-d123-4773-cd1f-1439abfb6d90"
   },
   "outputs": [
    {
     "data": {
      "image/png": "[encoded data removed]",
      "text/plain": [
       "<Figure size 640x480 with 1 Axes>"
      ]
     },
     "metadata": {},
     "output_type": "display_data"
    }
   ],
   "source": [
    "plt.scatter(X[1], y)\n",
    "plt.plot(X[1], y_pred1, label='1 - manual')\n",
    "plt.plot(X[1], y_pred2, label='2 - manual')\n",
    "plt.plot(X[1], y_pred3, label='3 - analytical solution')\n",
    "plt.legend()\n",
    "plt.show()"
   ]
  },
  {
   "cell_type": "code",
   "execution_count": 16,
   "metadata": {
    "id": "JTSC2cFnCd8T"
   },
   "outputs": [],
   "source": [
    "def calc_mae(y, y_pred):\n",
    "    err = np.mean(np.abs(y - y_pred))\n",
    "    return err\n",
    "\n",
    "def calc_mse(y, y_pred):\n",
    "    err = np.mean((y - y_pred) ** 2) # <=> 1 / n * np.sum((y_pred - y) ** 2)\n",
    "    return err"
   ]
  },
  {
   "cell_type": "code",
   "execution_count": 17,
   "metadata": {
    "colab": {
     "base_uri": "https://localhost:8080/",
     "height": 34
    },
    "id": "MYSrwISJDGfS",
    "outputId": "891bfd3a-142c-466c-a9d9-7ebfb303e86c"
   },
   "outputs": [
    {
     "data": {
      "text/plain": [
       "(8.5, 97.5)"
      ]
     },
     "execution_count": 17,
     "metadata": {},
     "output_type": "execute_result"
    }
   ],
   "source": [
    "calc_mae(y, y_pred1), calc_mse(y, y_pred1)"
   ]
  },
  {
   "cell_type": "code",
   "execution_count": 18,
   "metadata": {
    "colab": {
     "base_uri": "https://localhost:8080/",
     "height": 34
    },
    "id": "oi4FNXFlBjaN",
    "outputId": "891bfd3a-142c-466c-a9d9-7ebfb303e86c"
   },
   "outputs": [
    {
     "data": {
      "text/plain": [
       "(9.0, 188.75)"
      ]
     },
     "execution_count": 18,
     "metadata": {},
     "output_type": "execute_result"
    }
   ],
   "source": [
    "calc_mae(y, y_pred2), calc_mse(y, y_pred2)"
   ]
  },
  {
   "cell_type": "code",
   "execution_count": 19,
   "metadata": {
    "colab": {
     "base_uri": "https://localhost:8080/",
     "height": 34
    },
    "id": "_WtO6lvhDmQ6",
    "outputId": "8de8b895-85d8-448e-f565-b70e93a5dd25"
   },
   "outputs": [
    {
     "data": {
      "text/plain": [
       "(5.787499999999998, 43.96875)"
      ]
     },
     "execution_count": 19,
     "metadata": {},
     "output_type": "execute_result"
    }
   ],
   "source": [
    "calc_mae(y, y_pred3), calc_mse(y, y_pred3)"
   ]
  },
  {
   "cell_type": "markdown",
   "metadata": {
    "id": "JAOgIXLRa--g"
   },
   "source": [
    "Градиентный спуск"
   ]
  },
  {
   "cell_type": "code",
   "execution_count": 20,
   "metadata": {
    "id": "DNebwUP7Fd8F"
   },
   "outputs": [],
   "source": [
    "n = 10\n",
    "Q = 1 / n * np.sum((y_pred3 - y) ** 2) # функционал ошибки, y = X * w"
   ]
  },
  {
   "cell_type": "code",
   "execution_count": 21,
   "metadata": {
    "id": "5DKkvmkwHdOx"
   },
   "outputs": [],
   "source": [
    "alpha = 1e-2 # величина шага\n",
    "g = alpha * (1 / n * 2 * np.sum(X[0] * (W[0] * X[0] - y)))"
   ]
  },
  {
   "cell_type": "code",
   "execution_count": 22,
   "metadata": {
    "colab": {
     "base_uri": "https://localhost:8080/",
     "height": 34
    },
    "id": "ZVRCF5P2MYI6",
    "outputId": "0b0e2f05-a23c-4bf8-f37d-b4240d2e0af0"
   },
   "outputs": [
    {
     "data": {
      "text/plain": [
       "(45.0625, 45.29125)"
      ]
     },
     "execution_count": 22,
     "metadata": {},
     "output_type": "execute_result"
    }
   ],
   "source": [
    "W[0], W[0] - g"
   ]
  },
  {
   "cell_type": "markdown",
   "metadata": {
    "id": "QqGEYJDNBjaP"
   },
   "source": [
    "### Практическое задание"
   ]
  },
  {
   "cell_type": "markdown",
   "metadata": {
    "id": "huXrhXQsZTMt"
   },
   "source": [
    "1. Подберите скорость обучения (alpha) и количество итераций."
   ]
  },
  {
   "cell_type": "code",
   "execution_count": 23,
   "metadata": {
    "colab": {
     "base_uri": "https://localhost:8080/",
     "height": 185
    },
    "id": "IDB22MQKMYaJ",
    "outputId": "4c03219e-a57c-4583-f439-6699fd0619bb"
   },
   "outputs": [],
   "source": [
    "def weights_and_error(alpha, iterrations):\n",
    "    \"\"\"\n",
    "    alpha, iterrations - numbers (ints and/or floats)\n",
    "    return MSE on step=alpha and iterrations' numbers=iterrations\n",
    "    \"\"\"\n",
    "    X = np.array([[1, 1, 1, 1, 1, 1, 1, 1, 1, 1], [1, 1, 2, 5, 3, 0, 5, 10, 1, 2]])\n",
    "    y = [45, 55, 50, 55, 60, 35, 75, 80, 50, 60]\n",
    "    W = np.array([1, .5])\n",
    "    for iter_num in range(iterrations):\n",
    "        y_pred = np.dot(W, X)\n",
    "        err = np.mean((y - y_pred) ** 2)\n",
    "        for i in range(W.shape[0]):\n",
    "            W[i] -= alpha * (1 / X.shape[1] * 2 * np.sum(X[i] * (y_pred - y)))\n",
    "        if not iter_num % 10:\n",
    "            alpha /= 1.1\n",
    "    # Ошибку округляем до четвертого знака после запятой, иначе некоторую миллиардную часть\n",
    "    # ошибки можно будет уменьшать до бесконечности.     \n",
    "    return round(err, 4)"
   ]
  },
  {
   "cell_type": "code",
   "execution_count": 24,
   "metadata": {},
   "outputs": [
    {
     "name": "stdout",
     "output_type": "stream",
     "text": [
      "Лучший начальный шаг равен 0.1, наименьшее количство итераций для достижения миниальной ошибки, равной 43.9688, равно 200.\n"
     ]
    }
   ],
   "source": [
    "alpha_list = [.002, .005, .01, .02, .05, .1, .2]\n",
    "iterration_list = [10, 25, 50, 100, 200, 250, 500]\n",
    "error_list = []\n",
    "num = 0\n",
    "for alpha in alpha_list:\n",
    "    for iterrations in iterration_list:\n",
    "        error_list.append({'alpha': alpha, 'iterrations': iterrations})\n",
    "        mse = weights_and_error(alpha=alpha, iterrations=iterrations)\n",
    "        error_list[num].update({'MSE': mse})\n",
    "        num += 1\n",
    "best_alpha, best_iterrations, best_error = 0, 0, 1000\n",
    "for info in error_list:\n",
    "    if info['MSE'] < best_error:\n",
    "        best_alpha, best_iterration, best_error = info['alpha'], info['iterrations'], info['MSE']\n",
    "print(f'Лучший начальный шаг равен {best_alpha}, наименьшее количство итераций для достижения ' \n",
    "      f'миниальной ошибки, равной {best_error}, равно {best_iterration}.')"
   ]
  },
  {
   "cell_type": "markdown",
   "metadata": {
    "id": "5Qu1o4JhZYwI"
   },
   "source": [
    "*2. В этом коде мы избавляемся от итераций по весам, но здесь есть ошибка, исправьте её.\n"
   ]
  },
  {
   "cell_type": "code",
   "execution_count": 25,
   "metadata": {
    "colab": {
     "base_uri": "https://localhost:8080/",
     "height": 185
    },
    "id": "WZZzDCQLY4pA",
    "outputId": "28f58ade-72f2-4381-809d-2417752d56e4"
   },
   "outputs": [
    {
     "name": "stdout",
     "output_type": "stream",
     "text": [
      "Number of objects = 10        \n",
      "Learning rate = 0.01        \n",
      "Initial weights = [1.  0.5] \n",
      "\n",
      "Iteration #0: W_new = [2.08 4.27], MSE = 3047.75\n",
      "Iteration #10: W_new = [ 7.0011236 10.6169007], MSE = 738.65\n",
      "Iteration #20: W_new = [10.3486292  10.10603105], MSE = 622.03\n",
      "Iteration #30: W_new = [13.38789582  9.55618391], MSE = 525.24\n",
      "Iteration #40: W_new = [16.16088505  9.05336203], MSE = 444.66\n",
      "Iteration #50: W_new = [18.69110735  8.59454545], MSE = 377.58\n",
      "Iteration #60: W_new = [20.99981865  8.17589626], MSE = 321.72\n",
      "Iteration #70: W_new = [23.10641138  7.79389815], MSE = 275.22\n",
      "Iteration #80: W_new = [25.02858024  7.44534246], MSE = 236.5\n",
      "Iteration #90: W_new = [26.78247081  7.12730145], MSE = 204.27\n",
      "\n",
      "Если при сложении матриц мы хотим получить не число, а матрицу, и используем функцию numpy.sum(), необходимо указать ось, по которой производится сложение.\n"
     ]
    }
   ],
   "source": [
    "n = X.shape[1]\n",
    "alpha = 1e-2\n",
    "W = np.array([1, .5])\n",
    "print(f'Number of objects = {n} \\\n",
    "       \\nLearning rate = {alpha} \\\n",
    "       \\nInitial weights = {W} \\n')\n",
    "\n",
    "for i in range(100):\n",
    "    y_pred = np.dot(W, X)\n",
    "    err = calc_mse(y, y_pred)\n",
    "#     for k in range(W.shape[0]):\n",
    "#         W[k] -= alpha * (1/n * 2 * np.sum(X[k] * (y_pred - y)))\n",
    "    W -= alpha * (1 / n * 2 * np.sum(X * (y_pred - y), axis=1))\n",
    "    W_pred = W\n",
    "    if i % 10 == 0:\n",
    "        print(f'Iteration #{i}: W_new = {W}, MSE = {round(err, 2)}')\n",
    "        \n",
    "print('\\nЕсли при сложении матриц мы хотим получить не число, а матрицу, и используем функцию '\n",
    "      'numpy.sum(), необходимо указать ось, по которой производится сложение.')"
   ]
  },
  {
   "cell_type": "markdown",
   "metadata": {
    "id": "dNd19yVmBjaR"
   },
   "source": [
    "*3. Вместо того чтобы задавать количество итераций, задайте условие остановки алгоритма, когда ошибка за итерацию начинает изменяться ниже определённого порога — упрощённый аналог параметра tol в линейной регрессии в sklearn."
   ]
  },
  {
   "cell_type": "code",
   "execution_count": 26,
   "metadata": {
    "id": "VjV39BwKBjaR"
   },
   "outputs": [
    {
     "name": "stdout",
     "output_type": "stream",
     "text": [
      "Iteration #0: W_new = [2.08 4.27], MSE = 3047.75\n",
      "Iteration #1: W_new = [2.9122 6.6934], MSE = 1777.0353\n",
      "Iteration #2: W_new = [3.582352 8.242912], MSE = 1233.1246862399998\n",
      "Iteration #3: W_new = [4.14613024 9.2253808 ], MSE = 995.6119136616959\n",
      "Iteration #4: W_new = [4.63968479 9.83998351], MSE = 887.3532060945618\n",
      "Iteration #5: W_new = [ 5.08649208 10.21600803], MSE = 833.705103731704\n",
      "Iteration #6: W_new = [ 5.50180176 10.43737578], MSE = 803.2133893510011\n",
      "Iteration #7: W_new = [ 5.89552318 10.55855991], MSE = 782.6219704436712\n",
      "Iteration #8: W_new = [ 6.27409912 10.61491815], MSE = 766.3427039405009\n",
      "Iteration #9: W_new = [ 6.64172205 10.62940003], MSE = 752.0184356756685\n",
      "Iteration #10: W_new = [ 7.0011236 10.6169007], MSE = 738.6534565814403\n",
      "Iteration #11: W_new = [ 7.35408709 10.58708704], MSE = 725.8257570810141\n",
      "Iteration #12: W_new = [ 7.70178013 10.54623222], MSE = 713.3551043907684\n",
      "Iteration #13: W_new = [ 8.04497059 10.49840646], MSE = 701.1631838639864\n",
      "Iteration #14: W_new = [ 8.38416679 10.44625003], MSE = 689.2146678156333\n",
      "Iteration #15: W_new = [ 8.71970845 10.39147501], MSE = 677.4923836960982\n",
      "Iteration #16: W_new = [ 9.05182578 10.335191  ], MSE = 665.9868502675105\n",
      "Iteration #17: W_new = [ 9.38067781 10.27811651], MSE = 654.6918678478205\n",
      "Iteration #18: W_new = [ 9.70637726 10.22071623], MSE = 643.6026594904472\n",
      "Iteration #19: W_new = [10.02900674 10.16329008], MSE = 632.7150870310963\n",
      "Iteration #20: W_new = [10.3486292  10.10603105], MSE = 622.0253200502415\n",
      "Iteration #21: W_new = [10.66529475 10.04906274], MSE = 611.5296956875911\n",
      "Iteration #22: W_new = [10.9790451   9.99246372], MSE = 601.224658886046\n",
      "Iteration #23: W_new = [11.28991637  9.93628335], MSE = 591.106736537642\n",
      "Iteration #24: W_new = [11.59794104  9.88055203], MSE = 581.1725259265907\n",
      "Iteration #25: W_new = [11.9031491   9.82528788], MSE = 571.4186892085335\n",
      "Iteration #26: W_new = [12.20556884  9.77050105], MSE = 561.8419504450219\n",
      "Iteration #27: W_new = [12.5052274   9.71619656], MSE = 552.4390937262639\n",
      "Iteration #28: W_new = [12.80215106  9.66237609], MSE = 543.2069617638169\n",
      "Iteration #29: W_new = [13.09636548  9.60903915], MSE = 534.1424546924877\n",
      "Iteration #30: W_new = [13.38789582  9.55618391], MSE = 525.2425289713664\n",
      "Iteration #31: W_new = [13.67676687  9.50380763], MSE = 516.5041963374217\n",
      "Iteration #32: W_new = [13.96300307  9.45190703], MSE = 507.92452279183516\n",
      "Iteration #33: W_new = [14.24662859  9.40047845], MSE = 499.5006276105266\n",
      "Iteration #34: W_new = [14.52766731  9.34951806], MSE = 491.2296823750864\n",
      "Iteration #35: W_new = [14.80614288  9.29902188], MSE = 483.1089100223302\n",
      "Iteration #36: W_new = [15.08207871  9.24898587], MSE = 475.13558391154254\n",
      "Iteration #37: W_new = [15.35549798  9.19940595], MSE = 467.30702690883993\n",
      "Iteration #38: W_new = [15.62642367  9.15027805], MSE = 459.6206104882355\n",
      "Iteration #39: W_new = [15.89487851  9.10159809], MSE = 452.07375384905697\n",
      "Iteration #40: W_new = [16.16088505  9.05336203], MSE = 444.6639230494043\n",
      "Iteration #41: W_new = [16.42446563  9.00556584], MSE = 437.38863015534537\n",
      "Iteration #42: W_new = [16.68564237  8.95820551], MSE = 430.2454324055619\n",
      "Iteration #43: W_new = [16.94443719  8.9112771 ], MSE = 423.2319313911662\n",
      "Iteration #44: W_new = [17.20087182  8.86477665], MSE = 416.3457722504052\n",
      "Iteration #45: W_new = [17.45496778  8.81870028], MSE = 409.58464287799114\n",
      "Iteration #46: W_new = [17.70674641  8.77304412], MSE = 402.94627314878574\n",
      "Iteration #47: W_new = [17.95622884  8.72780433], MSE = 396.4284341555796\n",
      "Iteration #48: W_new = [18.203436    8.68297713], MSE = 390.0289374607122\n",
      "Iteration #49: W_new = [18.44838865  8.63855875], MSE = 383.7456343612788\n",
      "Iteration #50: W_new = [18.69110735  8.59454545], MSE = 377.57641516768024\n",
      "Iteration #51: W_new = [18.93161248  8.55093356], MSE = 371.5192084952694\n",
      "Iteration #52: W_new = [19.16992422  8.5077194 ], MSE = 365.57198056886205\n",
      "Iteration #53: W_new = [19.40606257  8.46489935], MSE = 359.7327345398734\n",
      "Iteration #54: W_new = [19.64004736  8.42246982], MSE = 353.99950981585334\n",
      "Iteration #55: W_new = [19.87189822  8.38042724], MSE = 348.37038140219613\n",
      "Iteration #56: W_new = [20.10163462  8.33876808], MSE = 342.8434592558019\n",
      "Iteration #57: W_new = [20.32927584  8.29748886], MSE = 337.41688765047275\n",
      "Iteration #58: W_new = [20.55484099  8.2565861 ], MSE = 332.0888445538323\n",
      "Iteration #59: W_new = [20.77834901  8.21605636], MSE = 326.857541015558\n",
      "Iteration #60: W_new = [20.99981865  8.17589626], MSE = 321.7212205667205\n",
      "Iteration #61: W_new = [21.2192685   8.13610241], MSE = 316.67815863003\n",
      "Iteration #62: W_new = [21.43671698  8.09667148], MSE = 311.7266619407895\n",
      "Iteration #63: W_new = [21.65218236  8.05760016], MSE = 306.86506797836245\n",
      "Iteration #64: W_new = [21.8656827   8.01888516], MSE = 302.09174440796323\n",
      "Iteration #65: W_new = [22.07723593  7.98052325], MSE = 297.40508853258126\n",
      "Iteration #66: W_new = [22.28685982  7.94251119], MSE = 292.80352675485847\n",
      "Iteration #67: W_new = [22.49457195  7.90484579], MSE = 288.28551404873616\n",
      "Iteration #68: W_new = [22.70038977  7.86752391], MSE = 283.8495334406946\n",
      "Iteration #69: W_new = [22.90433054  7.83054239], MSE = 279.4940955004128\n",
      "Iteration #70: W_new = [23.10641138  7.79389815], MSE = 275.21773784067534\n",
      "Iteration #71: W_new = [23.30664927  7.75758809], MSE = 271.0190246263588\n",
      "Iteration #72: W_new = [23.505061    7.72160919], MSE = 266.89654609233526\n",
      "Iteration #73: W_new = [23.70166322  7.6859584 ], MSE = 262.84891807012656\n",
      "Iteration #74: W_new = [23.89647246  7.65063275], MSE = 258.87478152315487\n",
      "Iteration #75: W_new = [24.08950504  7.61562927], MSE = 254.97280209043075\n",
      "Iteration #76: W_new = [24.28077718  7.58094502], MSE = 251.14166963852648\n",
      "Iteration #77: W_new = [24.47030494  7.54657708], MSE = 247.3800978216842\n",
      "Iteration #78: W_new = [24.65810422  7.51252258], MSE = 243.6868236499103\n",
      "Iteration #79: W_new = [24.84419078  7.47877865], MSE = 240.06060706491303\n",
      "Iteration #80: W_new = [25.02858024  7.44534246], MSE = 236.50023052373837\n",
      "Iteration #81: W_new = [25.21128809  7.41221121], MSE = 233.00449858996717\n",
      "Iteration #82: W_new = [25.39232966  7.37938211], MSE = 229.57223753233285\n",
      "Iteration #83: W_new = [25.57172014  7.34685241], MSE = 226.20229493062885\n",
      "Iteration #84: W_new = [25.74947459  7.31461939], MSE = 222.89353928877003\n",
      "Iteration #85: W_new = [25.92560793  7.28268032], MSE = 219.64485965488066\n",
      "Iteration #86: W_new = [26.10013496  7.25103253], MSE = 216.45516524827917\n",
      "Iteration #87: W_new = [26.27307031  7.21967338], MSE = 213.323385093237\n",
      "Iteration #88: W_new = [26.4444285   7.18860021], MSE = 210.24846765938588\n",
      "Iteration #89: W_new = [26.61422391  7.15781043], MSE = 207.22938050865514\n",
      "Iteration #90: W_new = [26.78247081  7.12730145], MSE = 204.26510994861874\n",
      "Iteration #91: W_new = [26.94918331  7.09707071], MSE = 201.35466069213686\n",
      "Iteration #92: W_new = [27.1143754   7.06711567], MSE = 198.49705552317687\n",
      "Iteration #93: W_new = [27.27806095  7.03743382], MSE = 195.69133496870194\n",
      "Iteration #94: W_new = [27.4402537   7.00802266], MSE = 192.9365569765179\n",
      "Iteration #95: W_new = [27.60096727  6.97887973], MSE = 190.2317965989676\n",
      "Iteration #96: W_new = [27.76021514  6.95000259], MSE = 187.57614568237042\n",
      "Iteration #97: W_new = [27.91801068  6.9213888 ], MSE = 184.9687125620985\n",
      "Iteration #98: W_new = [28.07436714  6.89303597], MSE = 182.4086217631909\n",
      "Iteration #99: W_new = [28.22929764  6.86494171], MSE = 179.89501370640295\n",
      "Iteration #100: W_new = [28.38281518  6.83710367], MSE = 177.42704441959268\n",
      "Iteration #101: W_new = [28.53493266  6.80951951], MSE = 175.0038852543481\n",
      "Iteration #102: W_new = [28.68566284  6.78218692], MSE = 172.62472260775854\n",
      "Iteration #103: W_new = [28.83501836  6.7551036 ], MSE = 170.28875764923896\n",
      "Iteration #104: W_new = [28.98301178  6.72826727], MSE = 167.9952060523134\n",
      "Iteration #105: W_new = [29.12965551  6.70167569], MSE = 165.7432977312683\n",
      "Iteration #106: W_new = [29.27496186  6.67532663], MSE = 163.5322765825878\n",
      "Iteration #107: W_new = [29.41894302  6.64921786], MSE = 161.36140023108368\n",
      "Iteration #108: W_new = [29.56161109  6.62334721], MSE = 159.22993978063417\n",
      "Iteration #109: W_new = [29.70297804  6.59771249], MSE = 157.13717956944907\n",
      "Iteration #110: W_new = [29.84305573  6.57231156], MSE = 155.08241692977836\n",
      "Iteration #111: W_new = [29.98185592  6.54714229], MSE = 153.0649619519834\n",
      "Iteration #112: W_new = [30.11939026  6.52220255], MSE = 151.08413725289213\n",
      "Iteration #113: W_new = [30.2556703   6.49749027], MSE = 149.13927774836017\n",
      "Iteration #114: W_new = [30.39070748  6.47300336], MSE = 147.229730429961\n",
      "Iteration #115: W_new = [30.52451313  6.44873977], MSE = 145.3548541457315\n",
      "Iteration #116: W_new = [30.65709848  6.42469746], MSE = 143.51401938489778\n",
      "Iteration #117: W_new = [30.78847466  6.40087441], MSE = 141.70660806650955\n",
      "Iteration #118: W_new = [30.91865271  6.37726863], MSE = 139.93201333191297\n",
      "Iteration #119: W_new = [31.04764353  6.35387814], MSE = 138.189639340991\n",
      "Iteration #120: W_new = [31.17545797  6.33070096], MSE = 136.47890107210296\n",
      "Iteration #121: W_new = [31.30210676  6.30773515], MSE = 134.79922412565747\n",
      "Iteration #122: W_new = [31.42760051  6.2849788 ], MSE = 133.15004453125078\n",
      "Iteration #123: W_new = [31.55194978  6.26242997], MSE = 131.53080855830814\n",
      "Iteration #124: W_new = [31.67516498  6.2400868 ], MSE = 129.9409725301616\n",
      "Iteration #125: W_new = [31.79725647  6.21794739], MSE = 128.3800026415053\n",
      "Iteration #126: W_new = [31.9182345   6.19600989], MSE = 126.84737477916376\n",
      "Iteration #127: W_new = [32.03810922  6.17427246], MSE = 125.34257434611547\n",
      "Iteration #128: W_new = [32.15689069  6.15273327], MSE = 123.86509608871049\n",
      "Iteration #129: W_new = [32.27458888  6.13139052], MSE = 122.41444392702674\n",
      "Iteration #130: W_new = [32.39121367  6.11024241], MSE = 120.99013078830474\n",
      "Iteration #131: W_new = [32.50677485  6.08928717], MSE = 119.59167844340814\n",
      "Iteration #132: W_new = [32.62128212  6.06852304], MSE = 118.21861734625251\n",
      "Iteration #133: W_new = [32.7347451   6.04794828], MSE = 116.87048647615006\n",
      "Iteration #134: W_new = [32.8471733   6.02756116], MSE = 115.54683318301693\n",
      "Iteration #135: W_new = [32.95857616  6.00735997], MSE = 114.24721303539044\n",
      "Iteration #136: W_new = [33.06896304  5.98734301], MSE = 112.9711896712067\n",
      "Iteration #137: W_new = [33.1783432  5.9675086], MSE = 111.71833465128694\n",
      "Iteration #138: W_new = [33.28672582  5.94785509], MSE = 110.48822731548405\n",
      "Iteration #139: W_new = [33.39412     5.92838081], MSE = 109.28045464144164\n",
      "Iteration #140: W_new = [33.50053475  5.90908413], MSE = 108.09461110591664\n",
      "Iteration #141: W_new = [33.60597901  5.88996344], MSE = 106.93029854862084\n",
      "Iteration #142: W_new = [33.71046162  5.87101713], MSE = 105.78712603853378\n",
      "Iteration #143: W_new = [33.81399136  5.85224361], MSE = 104.66470974264317\n",
      "Iteration #144: W_new = [33.91657692  5.8336413 ], MSE = 103.56267279706898\n",
      "Iteration #145: W_new = [34.0182269   5.81520864], MSE = 102.48064518052695\n",
      "Iteration #146: W_new = [34.11894984  5.79694409], MSE = 101.41826359008971\n",
      "Iteration #147: W_new = [34.2187542   5.77884611], MSE = 100.3751713192039\n",
      "Iteration #148: W_new = [34.31764835  5.76091318], MSE = 99.35101813792198\n",
      "Iteration #149: W_new = [34.41564059  5.7431438 ], MSE = 98.34546017530852\n",
      "Iteration #150: W_new = [34.51273915  5.72553647], MSE = 97.35815980398132\n",
      "Iteration #151: W_new = [34.60895218  5.70808972], MSE = 96.38878552674998\n",
      "Iteration #152: W_new = [34.70428776  5.69080209], MSE = 95.43701186531135\n",
      "Iteration #153: W_new = [34.79875388  5.67367211], MSE = 94.50251925096674\n",
      "Iteration #154: W_new = [34.89235847  5.65669836], MSE = 93.58499391732316\n",
      "Iteration #155: W_new = [34.9851094   5.63987941], MSE = 92.68412779494277\n",
      "Iteration #156: W_new = [35.07701445  5.62321385], MSE = 91.7996184079051\n",
      "Iteration #157: W_new = [35.16808133  5.60670027], MSE = 90.93116877224719\n",
      "Iteration #158: W_new = [35.25831768  5.5903373 ], MSE = 90.07848729624808\n",
      "Iteration #159: W_new = [35.34773109  5.57412356], MSE = 89.2412876825235\n",
      "Iteration #160: W_new = [35.43632906  5.55805768], MSE = 88.4192888318984\n",
      "Iteration #161: W_new = [35.52411902  5.54213833], MSE = 87.61221474902479\n",
      "Iteration #162: W_new = [35.61110834  5.52636415], MSE = 86.81979444971284\n",
      "Iteration #163: W_new = [35.69730432  5.51073384], MSE = 86.0417618699455\n",
      "Iteration #164: W_new = [35.7827142   5.49524608], MSE = 85.27785577654394\n",
      "Iteration #165: W_new = [35.86734515  5.47989956], MSE = 84.52781967945592\n",
      "Iteration #166: W_new = [35.95120428  5.464693  ], MSE = 83.79140174563625\n",
      "Iteration #167: W_new = [36.03429861  5.44962512], MSE = 83.06835471449114\n",
      "Iteration #168: W_new = [36.11663513  5.43469466], MSE = 82.35843581485732\n",
      "Iteration #169: W_new = [36.19822075  5.41990037], MSE = 81.66140668348939\n",
      "Iteration #170: W_new = [36.27906231  5.405241  ], MSE = 80.97703328502635\n",
      "Iteration #171: W_new = [36.35916661  5.39071532], MSE = 80.30508583341171\n",
      "Iteration #172: W_new = [36.43854036  5.37632212], MSE = 79.64533871474019\n",
      "Iteration #173: W_new = [36.51719022  5.36206017], MSE = 78.99757041150545\n",
      "Iteration #174: W_new = [36.59512281  5.3479283 ], MSE = 78.36156342822282\n",
      "Iteration #175: W_new = [36.67234465  5.33392531], MSE = 77.73710421840312\n",
      "Iteration #176: W_new = [36.74886224  5.32005003], MSE = 77.12398311285168\n",
      "Iteration #177: W_new = [36.82468199  5.30630128], MSE = 76.52199424926978\n",
      "Iteration #178: W_new = [36.89981028  5.29267793], MSE = 75.93093550313397\n",
      "Iteration #179: W_new = [36.9742534   5.27917882], MSE = 75.35060841983059\n",
      "Iteration #180: W_new = [37.0480176   5.26580281], MSE = 74.78081814802216\n",
      "Iteration #181: W_new = [37.12110908  5.2525488 ], MSE = 74.2213733742243\n",
      "Iteration #182: W_new = [37.19353397  5.23941566], MSE = 73.67208625856952\n",
      "Iteration #183: W_new = [37.26529835  5.2264023 ], MSE = 73.1327723717383\n",
      "Iteration #184: W_new = [37.33640824  5.21350762], MSE = 72.60325063303466\n",
      "Iteration #185: W_new = [37.40686962  5.20073053], MSE = 72.08334324958653\n",
      "Iteration #186: W_new = [37.4766884   5.18806997], MSE = 71.57287565664942\n",
      "Iteration #187: W_new = [37.54587043  5.17552488], MSE = 71.07167645899463\n",
      "Iteration #188: W_new = [37.61442153  5.16309419], MSE = 70.5795773733613\n",
      "Iteration #189: W_new = [37.68234745  5.15077688], MSE = 70.09641317195339\n",
      "Iteration #190: W_new = [37.74965389  5.13857189], MSE = 69.62202162696256\n",
      "Iteration #191: W_new = [37.8163465   5.12647822], MSE = 69.15624345609864\n",
      "Iteration #192: W_new = [37.88243087  5.11449483], MSE = 68.69892226910824\n",
      "Iteration #193: W_new = [37.94791257  5.10262074], MSE = 68.24990451526551\n",
      "Iteration #194: W_new = [38.01279707  5.09085493], MSE = 67.80903943181552\n",
      "Iteration #195: W_new = [38.07708983  5.07919643], MSE = 67.37617899335403\n",
      "Iteration #196: W_new = [38.14079625  5.06764425], MSE = 66.95117786212623\n",
      "Iteration #197: W_new = [38.20392167  5.05619743], MSE = 66.53389333922806\n",
      "Iteration #198: W_new = [38.26647139  5.04485501], MSE = 66.12418531669327\n",
      "Iteration #199: W_new = [38.32845066  5.03361602], MSE = 65.72191623045093\n",
      "Iteration #200: W_new = [38.38986469  5.02247953], MSE = 65.32695101413637\n",
      "Iteration #201: W_new = [38.45071862  5.01144461], MSE = 64.93915705374133\n",
      "Iteration #202: W_new = [38.51101757  5.00051033], MSE = 64.55840414308727\n",
      "Iteration #203: W_new = [38.5707666   4.98967576], MSE = 64.18456444010725\n",
      "Iteration #204: W_new = [38.62997072  4.97894001], MSE = 63.81751242392146\n",
      "Iteration #205: W_new = [38.68863491  4.96830216], MSE = 63.4571248526921\n",
      "Iteration #206: W_new = [38.74676408  4.95776133], MSE = 63.103280722243724\n",
      "Iteration #207: W_new = [38.80436312  4.94731663], MSE = 62.75586122543459\n",
      "Iteration #208: W_new = [38.86143686  4.93696719], MSE = 62.41474971226587\n",
      "Iteration #209: W_new = [38.91799009  4.92671213], MSE = 62.07983165071513\n",
      "Iteration #210: W_new = [38.97402756  4.9165506 ], MSE = 61.75099458828087\n",
      "Iteration #211: W_new = [39.02955397  4.90648174], MSE = 61.42812811422537\n",
      "Iteration #212: W_new = [39.08457399  4.89650471], MSE = 61.11112382250302\n",
      "Iteration #213: W_new = [39.13909223  4.88661867], MSE = 60.79987527536177\n",
      "Iteration #214: W_new = [39.19311326  4.87682279], MSE = 60.494277967605456\n",
      "Iteration #215: W_new = [39.24664163  4.86711625], MSE = 60.194229291505124\n",
      "Iteration #216: W_new = [39.29968182  4.85749822], MSE = 59.899628502347085\n",
      "Iteration #217: W_new = [39.35223829  4.84796792], MSE = 59.61037668460697\n",
      "Iteration #218: W_new = [39.40431545  4.83852453], MSE = 59.326376718737684\n",
      "Iteration #219: W_new = [39.45591767  4.82916726], MSE = 59.0475332485603\n",
      "Iteration #220: W_new = [39.50704928  4.81989533], MSE = 58.77375264924731\n",
      "Iteration #221: W_new = [39.55771458  4.81070796], MSE = 58.50494299588695\n",
      "Iteration #222: W_new = [39.60791781  4.80160438], MSE = 58.24101403261841\n",
      "Iteration #223: W_new = [39.65766319  4.79258382], MSE = 57.981877142327406\n",
      "Iteration #224: W_new = [39.70695489  4.78364553], MSE = 57.72744531689202\n",
      "Iteration #225: W_new = [39.75579706  4.77478876], MSE = 57.477633127968694\n",
      "Iteration #226: W_new = [39.8041938   4.76601276], MSE = 57.23235669830865\n",
      "Iteration #227: W_new = [39.85214916  4.75731679], MSE = 56.991533673595335\n",
      "Iteration #228: W_new = [39.89966717  4.74870013], MSE = 56.75508319479288\n",
      "Iteration #229: W_new = [39.94675181  4.74016206], MSE = 56.52292587099686\n",
      "Iteration #230: W_new = [39.99340705  4.73170185], MSE = 56.29498375277784\n",
      "Iteration #231: W_new = [40.0396368  4.7233188], MSE = 56.071180306009026\n",
      "Iteration #232: W_new = [40.08544494  4.7150122 ], MSE = 55.85144038616903\n",
      "Iteration #233: W_new = [40.13083531  4.70678135], MSE = 55.635690213111346\n",
      "Iteration #234: W_new = [40.17581172  4.69862558], MSE = 55.42385734629172\n",
      "Iteration #235: W_new = [40.22037795  4.69054418], MSE = 55.21587066044543\n",
      "Iteration #236: W_new = [40.26453774  4.68253648], MSE = 55.01166032170632\n",
      "Iteration #237: W_new = [40.3082948   4.67460181], MSE = 54.81115776415911\n",
      "Iteration #238: W_new = [40.35165279  4.66673951], MSE = 54.61429566681774\n",
      "Iteration #239: W_new = [40.39461537  4.65894891], MSE = 54.42100793102158\n",
      "Iteration #240: W_new = [40.43718613  4.65122936], MSE = 54.231229658242036\n",
      "Iteration #241: W_new = [40.47936864  4.64358021], MSE = 54.0448971282921\n",
      "Iteration #242: W_new = [40.52116646  4.63600082], MSE = 53.861947777931675\n",
      "Iteration #243: W_new = [40.56258308  4.62849055], MSE = 53.68232017986122\n",
      "Iteration #244: W_new = [40.60362198  4.62104878], MSE = 53.50595402209676\n",
      "Iteration #245: W_new = [40.64428662  4.61367488], MSE = 53.33279008771971\n",
      "Iteration #246: W_new = [40.68458039  4.60636822], MSE = 53.16277023499373\n",
      "Iteration #247: W_new = [40.72450669  4.5991282 ], MSE = 52.995837377843415\n",
      "Iteration #248: W_new = [40.76406887  4.59195421], MSE = 52.83193546668673\n",
      "Iteration #249: W_new = [40.80327023  4.58484565], MSE = 52.671009469615726\n",
      "Iteration #250: W_new = [40.84211409  4.57780191], MSE = 52.5130053539192\n",
      "Iteration #251: W_new = [40.88060369  4.57082242], MSE = 52.35787006794029\n",
      "Iteration #252: W_new = [40.91874228  4.56390657], MSE = 52.205551523264056\n",
      "Iteration #253: W_new = [40.95653304  4.5570538 ], MSE = 52.055998577228\n",
      "Iteration #254: W_new = [40.99397915  4.55026353], MSE = 51.909161015750485\n",
      "Iteration #255: W_new = [41.03108375  4.54353518], MSE = 51.764989536470715\n",
      "Iteration #256: W_new = [41.06784997  4.53686819], MSE = 51.62343573219501\n",
      "Iteration #257: W_new = [41.10428088  4.53026201], MSE = 51.4844520746434\n",
      "Iteration #258: W_new = [41.14037954  4.52371607], MSE = 51.34799189849158\n",
      "Iteration #259: W_new = [41.17614898  4.51722984], MSE = 51.21400938570243\n",
      "Iteration #260: W_new = [41.21159221  4.51080275], MSE = 51.08245955014228\n",
      "Iteration #261: W_new = [41.2467122   4.50443428], MSE = 50.953298222475965\n",
      "Iteration #262: W_new = [41.2815119  4.4981239], MSE = 50.826482035336845\n",
      "Iteration #263: W_new = [41.31599423  4.49187106], MSE = 50.701968408765424\n",
      "Iteration #264: W_new = [41.35016208  4.48567524], MSE = 50.57971553591286\n",
      "Iteration #265: W_new = [41.38401833  4.47953594], MSE = 50.45968236900385\n",
      "Iteration #266: W_new = [41.4175658   4.47345262], MSE = 50.34182860555409\n",
      "Iteration #267: W_new = [41.45080733  4.46742478], MSE = 50.22611467483862\n",
      "Iteration #268: W_new = [41.4837457   4.46145191], MSE = 50.112501724605316\n",
      "Iteration #269: W_new = [41.51638367  4.45553352], MSE = 50.000951608029894\n",
      "Iteration #270: W_new = [41.54872398  4.4496691 ], MSE = 49.89142687090753\n",
      "Iteration #271: W_new = [41.58076936  4.44385817], MSE = 49.78389073907747\n",
      "Iteration #272: W_new = [41.61252248  4.43810023], MSE = 49.67830710607537\n",
      "Iteration #273: W_new = [41.64398602  4.4323948 ], MSE = 49.57464052101041\n",
      "Iteration #274: W_new = [41.67516261  4.42674141], MSE = 49.47285617666209\n",
      "Iteration #275: W_new = [41.70605487  4.42113957], MSE = 49.37291989779337\n",
      "Iteration #276: W_new = [41.7366654   4.41558883], MSE = 49.27479812967603\n",
      "Iteration #277: W_new = [41.76699676  4.4100887 ], MSE = 49.178457926824116\n",
      "Iteration #278: W_new = [41.7970515   4.40463874], MSE = 49.0838669419323\n",
      "Iteration #279: W_new = [41.82683215  4.39923848], MSE = 48.99099341501478\n",
      "Iteration #280: W_new = [41.8563412   4.39388747], MSE = 48.89980616274164\n",
      "Iteration #281: W_new = [41.88558113  4.38858526], MSE = 48.81027456796854\n",
      "Iteration #282: W_new = [41.91455439  4.3833314 ], MSE = 48.72236856945679\n",
      "Iteration #283: W_new = [41.94326342  4.37812546], MSE = 48.63605865177989\n",
      "Iteration #284: W_new = [41.97171062  4.372967  ], MSE = 48.55131583541338\n",
      "Iteration #285: W_new = [41.99989839  4.36785558], MSE = 48.46811166700474\n",
      "Iteration #286: W_new = [42.02782909  4.36279078], MSE = 48.3864182098197\n",
      "Iteration #287: W_new = [42.05550506  4.35777217], MSE = 48.30620803436235\n",
      "Iteration #288: W_new = [42.08292863  4.35279933], MSE = 48.22745420916522\n",
      "Iteration #289: W_new = [42.11010209  4.34787184], MSE = 48.1501302917468\n",
      "Iteration #290: W_new = [42.13702774  4.34298929], MSE = 48.07421031973318\n",
      "Iteration #291: W_new = [42.16370783  4.33815127], MSE = 47.99966880214093\n",
      "Iteration #292: W_new = [42.1901446   4.33335737], MSE = 47.92648071081817\n",
      "Iteration #293: W_new = [42.21634026  4.32860719], MSE = 47.85462147204099\n",
      "Iteration #294: W_new = [42.24229703  4.32390033], MSE = 47.78406695826281\n",
      "Iteration #295: W_new = [42.26801707  4.31923639], MSE = 47.71479348001306\n",
      "Iteration #296: W_new = [42.29350254  4.314615  ], MSE = 47.64677777794316\n",
      "Iteration #297: W_new = [42.31875559  4.31003574], MSE = 47.57999701501712\n",
      "Iteration #298: W_new = [42.34377833  4.30549826], MSE = 47.514428768843615\n",
      "Iteration #299: W_new = [42.36857287  4.30100215], MSE = 47.450051024147385\n",
      "Iteration #300: W_new = [42.39314129  4.29654705], MSE = 47.386842165377494\n",
      "Iteration #301: W_new = [42.41748564  4.29213257], MSE = 47.32478096944952\n",
      "Iteration #302: W_new = [42.44160797  4.28775836], MSE = 47.26384659861981\n",
      "Iteration #303: W_new = [42.46551031  4.28342404], MSE = 47.20401859348881\n",
      "Iteration #304: W_new = [42.48919466  4.27912925], MSE = 47.14527686613168\n",
      "Iteration #305: W_new = [42.51266301  4.27487362], MSE = 47.087601693353655\n",
      "Iteration #306: W_new = [42.53591734  4.27065681], MSE = 47.030973710067514\n",
      "Iteration #307: W_new = [42.55895958  4.26647846], MSE = 46.97537390279176\n",
      "Iteration #308: W_new = [42.58179168  4.26233821], MSE = 46.92078360326652\n",
      "Iteration #309: W_new = [42.60441555  4.25823571], MSE = 46.867184482185465\n",
      "Iteration #310: W_new = [42.6268331   4.25417064], MSE = 46.81455854304161\n",
      "Iteration #311: W_new = [42.6490462   4.25014264], MSE = 46.76288811608469\n",
      "Iteration #312: W_new = [42.67105672  4.24615137], MSE = 46.71215585238842\n",
      "Iteration #313: W_new = [42.6928665  4.2421965], MSE = 46.662344718025345\n",
      "Iteration #314: W_new = [42.71447738  4.2382777 ], MSE = 46.61343798834756\n",
      "Iteration #315: W_new = [42.73589117  4.23439464], MSE = 46.56541924237116\n",
      "Iteration #316: W_new = [42.75710967  4.23054699], MSE = 46.51827235726281\n",
      "Iteration #317: W_new = [42.77813466  4.22673443], MSE = 46.471981502926134\n",
      "Iteration #318: W_new = [42.7989679   4.22295665], MSE = 46.42653113668681\n",
      "Iteration #319: W_new = [42.81961114  4.21921331], MSE = 46.38190599807382\n",
      "Iteration #320: W_new = [42.84006612  4.21550412], MSE = 46.33809110369556\n",
      "Iteration #321: W_new = [42.86033455  4.21182875], MSE = 46.29507174220903\n",
      "Iteration #322: W_new = [42.88041813  4.2081869 ], MSE = 46.25283346938036\n",
      "Iteration #323: W_new = [42.90031856  4.20457827], MSE = 46.21136210323498\n",
      "Iteration #324: W_new = [42.92003749  4.20100254], MSE = 46.170643719295846\n",
      "Iteration #325: W_new = [42.93957659  4.19745943], MSE = 46.13066464590806\n",
      "Iteration #326: W_new = [42.95893749  4.19394863], MSE = 46.09141145964872\n",
      "Iteration #327: W_new = [42.97812182  4.19046984], MSE = 46.05287098081952\n",
      "Iteration #328: W_new = [42.9971312   4.18702279], MSE = 46.01503026902176\n",
      "Iteration #329: W_new = [43.0159672   4.18360717], MSE = 45.977876618811365\n",
      "Iteration #330: W_new = [43.03463143  4.1802227 ], MSE = 45.94139755543294\n",
      "Iteration #331: W_new = [43.05312544  4.1768691 ], MSE = 45.90558083063114\n",
      "Iteration #332: W_new = [43.07145079  4.17354608], MSE = 45.87041441853825\n",
      "Iteration #333: W_new = [43.08960901  4.17025336], MSE = 45.835886511636396\n",
      "Iteration #334: W_new = [43.10760162  4.16699068], MSE = 45.80198551679294\n",
      "Iteration #335: W_new = [43.12543015  4.16375775], MSE = 45.76870005136805\n",
      "Iteration #336: W_new = [43.14309608  4.16055431], MSE = 45.73601893939279\n",
      "Iteration #337: W_new = [43.1606009   4.15738008], MSE = 45.70393120781667\n",
      "Iteration #338: W_new = [43.17794608  4.1542348 ], MSE = 45.67242608282338\n",
      "Iteration #339: W_new = [43.19513307  4.1511182 ], MSE = 45.64149298621326\n",
      "Iteration #340: W_new = [43.21216332  4.14803003], MSE = 45.61112153185167\n",
      "Iteration #341: W_new = [43.22903825  4.14497002], MSE = 45.58130152218158\n",
      "Iteration #342: W_new = [43.24575928  4.14193792], MSE = 45.55202294479981\n",
      "Iteration #343: W_new = [43.26232782  4.13893347], MSE = 45.52327596909509\n",
      "Iteration #344: W_new = [43.27874526  4.13595642], MSE = 45.49505094294735\n",
      "Iteration #345: W_new = [43.29501297  4.13300652], MSE = 45.46733838948704\n",
      "Iteration #346: W_new = [43.31113232  4.13008353], MSE = 45.44012900391303\n",
      "Iteration #347: W_new = [43.32710466  4.12718719], MSE = 45.41341365036841\n",
      "Iteration #348: W_new = [43.34293133  4.12431726], MSE = 45.38718335887315\n",
      "Iteration #349: W_new = [43.35861367  4.12147351], MSE = 45.36142932231222\n",
      "Iteration #350: W_new = [43.37415299  4.1186557 ], MSE = 45.33614289347854\n",
      "Iteration #351: W_new = [43.38955058  4.11586358], MSE = 45.311315582169534\n",
      "Iteration #352: W_new = [43.40480776  4.11309693], MSE = 45.286939052336564\n",
      "Iteration #353: W_new = [43.41992579  4.11035551], MSE = 45.2630051192859\n",
      "Iteration #354: W_new = [43.43490594  4.10763909], MSE = 45.23950574693065\n",
      "Iteration #355: W_new = [43.44974948  4.10494744], MSE = 45.21643304509256\n",
      "Iteration #356: W_new = [43.46445764  4.10228034], MSE = 45.193779266852815\n",
      "Iteration #357: W_new = [43.47903167  4.09963757], MSE = 45.17153680595088\n",
      "Iteration #358: W_new = [43.49347278  4.09701889], MSE = 45.14969819423063\n",
      "Iteration #359: W_new = [43.50778219  4.0944241 ], MSE = 45.12825609913287\n",
      "Iteration #360: W_new = [43.5219611   4.09185298], MSE = 45.10720332123331\n",
      "Iteration #361: W_new = [43.5360107  4.0893053], MSE = 45.08653279182524\n",
      "Iteration #362: W_new = [43.54993217  4.08678086], MSE = 45.06623757054625\n",
      "Iteration #363: W_new = [43.56372667  4.08427943], MSE = 45.046310843047756\n",
      "Iteration #364: W_new = [43.57739537  4.08180083], MSE = 45.02674591870719\n",
      "Iteration #365: W_new = [43.59093942  4.07934482], MSE = 45.00753622838141\n",
      "Iteration #366: W_new = [43.60435994  4.07691122], MSE = 44.988675322201104\n",
      "Iteration #367: W_new = [43.61765807  4.07449981], MSE = 44.97015686740512\n",
      "Iteration #368: W_new = [43.63083492  4.07211039], MSE = 44.95197464621427\n",
      "Iteration #369: W_new = [43.6438916   4.06974276], MSE = 44.93412255374351\n",
      "Iteration #370: W_new = [43.6568292   4.06739673], MSE = 44.916594595952255\n",
      "Iteration #371: W_new = [43.66964881  4.06507209], MSE = 44.89938488763179\n",
      "Iteration #372: W_new = [43.68235151  4.06276865], MSE = 44.882487650429184\n",
      "Iteration #373: W_new = [43.69493836  4.06048622], MSE = 44.865897210907285\n",
      "Iteration #374: W_new = [43.70741042  4.0582246 ], MSE = 44.84960799863961\n",
      "Iteration #375: W_new = [43.71976874  4.05598361], MSE = 44.833614544340165\n",
      "Iteration #376: W_new = [43.73201434  4.05376306], MSE = 44.817911478026986\n",
      "Iteration #377: W_new = [43.74414827  4.05156276], MSE = 44.802493527219184\n",
      "Iteration #378: W_new = [43.75617154  4.04938252], MSE = 44.787355515166574\n",
      "Iteration #379: W_new = [43.76808516  4.04722217], MSE = 44.77249235911156\n",
      "Iteration #380: W_new = [43.77989013  4.04508153], MSE = 44.75789906858249\n",
      "Iteration #381: W_new = [43.79158743  4.0429604 ], MSE = 44.7435707437182\n",
      "Iteration #382: W_new = [43.80317806  4.04085862], MSE = 44.729502573622604\n",
      "Iteration #383: W_new = [43.81466298  4.038776  ], MSE = 44.71568983474957\n",
      "Iteration #384: W_new = [43.82604316  4.03671238], MSE = 44.702127889316884\n",
      "Iteration #385: W_new = [43.83731956  4.03466758], MSE = 44.688812183748986\n",
      "Iteration #386: W_new = [43.84849311  4.03264143], MSE = 44.67573824714814\n",
      "Iteration #387: W_new = [43.85956476  4.03063376], MSE = 44.66290168979329\n",
      "Iteration #388: W_new = [43.87053544  4.02864439], MSE = 44.650298201666075\n",
      "Iteration #389: W_new = [43.88140607  4.02667317], MSE = 44.63792355100384\n",
      "Iteration #390: W_new = [43.89217756  4.02471993], MSE = 44.62577358287855\n",
      "Iteration #391: W_new = [43.90285081  4.0227845 ], MSE = 44.613844217801926\n",
      "Iteration #392: W_new = [43.91342672  4.02086672], MSE = 44.60213145035566\n",
      "Iteration #393: W_new = [43.92390619  4.01896643], MSE = 44.590631347846475\n",
      "Iteration #394: W_new = [43.93429008  4.01708347], MSE = 44.57934004898578\n",
      "Iteration #395: W_new = [43.94457927  4.01521769], MSE = 44.568253762593166\n",
      "Iteration #396: W_new = [43.95477462  4.01336892], MSE = 44.55736876632341\n",
      "Iteration #397: W_new = [43.96487699  4.01153701], MSE = 44.5466814054167\n",
      "Iteration #398: W_new = [43.97488723  4.00972181], MSE = 44.53618809147164\n",
      "Iteration #399: W_new = [43.98480618  4.00792316], MSE = 44.525885301240166\n",
      "Iteration #400: W_new = [43.99463466  4.00614091], MSE = 44.51576957544466\n",
      "Iteration #401: W_new = [44.00437352  4.00437492], MSE = 44.50583751761663\n",
      "Iteration #402: W_new = [44.01402355  4.00262504], MSE = 44.496085792956045\n",
      "Iteration #403: W_new = [44.02358558  4.00089111], MSE = 44.48651112721181\n",
      "Iteration #404: W_new = [44.0330604  3.999173 ], MSE = 44.477110305582336\n",
      "Iteration #405: W_new = [44.04244881  3.99747056], MSE = 44.467880171636196\n",
      "Iteration #406: W_new = [44.0517516   3.99578364], MSE = 44.458817626252184\n",
      "Iteration #407: W_new = [44.06096955  3.99411211], MSE = 44.449919626578904\n",
      "Iteration #408: W_new = [44.07010343  3.99245582], MSE = 44.441183185013\n",
      "Iteration #409: W_new = [44.07915402  3.99081463], MSE = 44.43260536819608\n",
      "Iteration #410: W_new = [44.08812206  3.98918842], MSE = 44.42418329602978\n",
      "Iteration #411: W_new = [44.09700831  3.98757703], MSE = 44.415914140708765\n",
      "Iteration #412: W_new = [44.10581352  3.98598034], MSE = 44.40779512577127\n",
      "Iteration #413: W_new = [44.11453843  3.98439821], MSE = 44.39982352516678\n",
      "Iteration #414: W_new = [44.12318377  3.98283052], MSE = 44.39199666234087\n",
      "Iteration #415: W_new = [44.13175027  3.98127711], MSE = 44.38431190933641\n",
      "Iteration #416: W_new = [44.14023863  3.97973788], MSE = 44.37676668591128\n",
      "Iteration #417: W_new = [44.14864959  3.97821268], MSE = 44.3693584586719\n",
      "Iteration #418: W_new = [44.15698383  3.9767014 ], MSE = 44.36208474022279\n",
      "Iteration #419: W_new = [44.16524207  3.97520389], MSE = 44.35494308833129\n",
      "Iteration #420: W_new = [44.173425    3.97372004], MSE = 44.34793110510751\n",
      "Iteration #421: W_new = [44.1815333   3.97224973], MSE = 44.34104643619934\n",
      "Iteration #422: W_new = [44.18956765  3.97079282], MSE = 44.33428677000184\n",
      "Iteration #423: W_new = [44.19752872  3.9693492 ], MSE = 44.32764983688114\n",
      "Iteration #424: W_new = [44.2054172   3.96791875], MSE = 44.321133408412415\n",
      "Iteration #425: W_new = [44.21323373  3.96650134], MSE = 44.314735296631596\n",
      "Iteration #426: W_new = [44.22097897  3.96509686], MSE = 44.30845335330076\n",
      "Iteration #427: W_new = [44.22865358  3.96370519], MSE = 44.30228546918689\n",
      "Iteration #428: W_new = [44.2362582   3.96232621], MSE = 44.29622957335361\n",
      "Iteration #429: W_new = [44.24379346  3.96095981], MSE = 44.29028363246583\n",
      "Iteration #430: W_new = [44.25126001  3.95960587], MSE = 44.28444565010714\n",
      "Iteration #431: W_new = [44.25865845  3.95826427], MSE = 44.27871366610933\n",
      "Iteration #432: W_new = [44.26598943  3.95693491], MSE = 44.27308575589445\n",
      "Iteration #433: W_new = [44.27325354  3.95561768], MSE = 44.267560029828374\n",
      "Iteration #434: W_new = [44.28045141  3.95431245], MSE = 44.26213463258653\n",
      "Iteration #435: W_new = [44.28758364  3.95301913], MSE = 44.25680774253085\n",
      "Iteration #436: W_new = [44.29465082  3.95173761], MSE = 44.25157757109812\n",
      "Iteration #437: W_new = [44.30165354  3.95046777], MSE = 44.24644236219956\n",
      "Iteration #438: W_new = [44.30859241  3.94920952], MSE = 44.241400391631075\n",
      "Iteration #439: W_new = [44.31546799  3.94796274], MSE = 44.23644996649443\n",
      "Iteration #440: W_new = [44.32228086  3.94672733], MSE = 44.23158942462878\n",
      "Iteration #441: W_new = [44.32903161  3.94550318], MSE = 44.22681713405255\n",
      "Iteration #442: W_new = [44.33572078  3.94429021], MSE = 44.22213149241561\n",
      "Iteration #443: W_new = [44.34234896  3.94308829], MSE = 44.21753092646114\n",
      "Iteration #444: W_new = [44.34891668  3.94189733], MSE = 44.2130138914974\n",
      "Iteration #445: W_new = [44.35542451  3.94071724], MSE = 44.208578870879215\n",
      "Iteration #446: W_new = [44.36187298  3.93954791], MSE = 44.20422437549854\n",
      "Iteration #447: W_new = [44.36826265  3.93838924], MSE = 44.199948943284674\n",
      "Iteration #448: W_new = [44.37459404  3.93724114], MSE = 44.195751138713206\n",
      "Iteration #449: W_new = [44.38086769  3.93610351], MSE = 44.191629552324095\n",
      "Iteration #450: W_new = [44.38708413  3.93497626], MSE = 44.18758280024841\n",
      "Iteration #451: W_new = [44.39324387  3.93385928], MSE = 44.183609523743684\n",
      "Iteration #452: W_new = [44.39934743  3.93275249], MSE = 44.179708388737694\n",
      "Iteration #453: W_new = [44.40539534  3.9316558 ], MSE = 44.175878085380546\n",
      "Iteration #454: W_new = [44.41138808  3.93056911], MSE = 44.17211732760485\n",
      "Iteration #455: W_new = [44.41732617  3.92949233], MSE = 44.16842485269394\n",
      "Iteration #456: W_new = [44.42321011  3.92842536], MSE = 44.164799420857875\n",
      "Iteration #457: W_new = [44.42904039  3.92736813], MSE = 44.16123981481722\n",
      "Iteration #458: W_new = [44.43481749  3.92632055], MSE = 44.157744839394226\n",
      "Iteration #459: W_new = [44.44054191  3.92528251], MSE = 44.15431332111165\n",
      "Iteration #460: W_new = [44.44621412  3.92425394], MSE = 44.150944107798686\n",
      "Iteration #461: W_new = [44.4518346   3.92323475], MSE = 44.14763606820411\n",
      "Iteration #462: W_new = [44.45740382  3.92222486], MSE = 44.14438809161644\n",
      "Iteration #463: W_new = [44.46292225  3.92122418], MSE = 44.14119908749109\n",
      "Iteration #464: W_new = [44.46839036  3.92023262], MSE = 44.13806798508409\n",
      "Iteration #465: W_new = [44.47380859  3.91925011], MSE = 44.13499373309263\n",
      "Iteration #466: W_new = [44.47917742  3.91827656], MSE = 44.131975299302056\n",
      "Iteration #467: W_new = [44.48449727  3.91731188], MSE = 44.12901167023933\n",
      "Iteration #468: W_new = [44.48976862  3.91635601], MSE = 44.1261018508327\n",
      "Iteration #469: W_new = [44.49499188  3.91540885], MSE = 44.1232448640776\n",
      "Iteration #470: W_new = [44.50016751  3.91447033], MSE = 44.120439750708684\n",
      "Iteration #471: W_new = [44.50529594  3.91354036], MSE = 44.11768556887755\n",
      "Iteration #472: W_new = [44.5103776   3.91261888], MSE = 44.11498139383675\n",
      "Iteration #473: W_new = [44.51541292  3.91170581], MSE = 44.11232631762914\n",
      "Iteration #474: W_new = [44.52040231  3.91080106], MSE = 44.10971944878304\n",
      "Iteration #475: W_new = [44.5253462   3.90990456], MSE = 44.107159912012975\n",
      "Iteration #476: W_new = [44.530245    3.90901624], MSE = 44.10464684792571\n",
      "Iteration #477: W_new = [44.53509913  3.90813602], MSE = 44.10217941273172\n",
      "Iteration #478: W_new = [44.53990899  3.90726382], MSE = 44.09975677796196\n",
      "Iteration #479: W_new = [44.54467498  3.90639958], MSE = 44.09737813018957\n",
      "Iteration #480: W_new = [44.5493975   3.90554323], MSE = 44.095042670756854\n",
      "Iteration #481: W_new = [44.55407696  3.90469468], MSE = 44.09274961550706\n",
      "Iteration #482: W_new = [44.55871374  3.90385387], MSE = 44.090498194521125\n",
      "Iteration #483: W_new = [44.56330823  3.90302073], MSE = 44.08828765185918\n",
      "Iteration #484: W_new = [44.56786082  3.90219519], MSE = 44.08611724530667\n",
      "Iteration #485: W_new = [44.5723719   3.90137717], MSE = 44.083986246125214\n",
      "Iteration #486: W_new = [44.57684183  3.90056662], MSE = 44.08189393880794\n",
      "Iteration #487: W_new = [44.58127099  3.89976346], MSE = 44.07983962083912\n",
      "Iteration #488: W_new = [44.58565977  3.89896762], MSE = 44.077822602458426\n",
      "Iteration #489: W_new = [44.59000851  3.89817905], MSE = 44.0758422064293\n",
      "Iteration #490: W_new = [44.5943176   3.89739766], MSE = 44.07389776781149\n",
      "Iteration #491: W_new = [44.59858739  3.8966234 ], MSE = 44.07198863373792\n",
      "Iteration #492: W_new = [44.60281824  3.8958562 ], MSE = 44.07011416319538\n",
      "Iteration #493: W_new = [44.6070105  3.895096 ], MSE = 44.06827372680928\n",
      "Iteration #494: W_new = [44.61116453  3.89434273], MSE = 44.06646670663248\n",
      "Iteration #495: W_new = [44.61528068  3.89359633], MSE = 44.06469249593764\n",
      "Iteration #496: W_new = [44.61935928  3.89285674], MSE = 44.062950499013596\n",
      "Iteration #497: W_new = [44.62340069  3.89212389], MSE = 44.061240130965295\n",
      "Iteration #498: W_new = [44.62740525  3.89139773], MSE = 44.059560817517465\n",
      "Iteration #499: W_new = [44.63137328  3.89067818], MSE = 44.05791199482176\n",
      "Iteration #500: W_new = [44.63530512  3.8899652 ], MSE = 44.0562931092674\n",
      "Iteration #501: W_new = [44.63920111  3.88925873], MSE = 44.05470361729541\n",
      "Iteration #502: W_new = [44.64306156  3.88855869], MSE = 44.053142985216\n",
      "Iteration #503: W_new = [44.64688681  3.88786504], MSE = 44.0516106890294\n",
      "Iteration #504: W_new = [44.65067717  3.88717772], MSE = 44.050106214249965\n",
      "Iteration #505: W_new = [44.65443296  3.88649667], MSE = 44.0486290557334\n",
      "Iteration #506: W_new = [44.6581545   3.88582182], MSE = 44.04717871750711\n",
      "Iteration #507: W_new = [44.6618421   3.88515313], MSE = 44.04575471260377\n",
      "Iteration #508: W_new = [44.66549607  3.88449054], MSE = 44.04435656289771\n",
      "Iteration #509: W_new = [44.66911672  3.88383399], MSE = 44.04298379894449\n",
      "Iteration #510: W_new = [44.67270435  3.88318343], MSE = 44.041635959823175\n",
      "Iteration #511: W_new = [44.67625925  3.8825388 ], MSE = 44.040312592981635\n",
      "Iteration #512: W_new = [44.67978174  3.88190006], MSE = 44.039013254084594\n",
      "Iteration #513: W_new = [44.6832721   3.88126713], MSE = 44.03773750686442\n",
      "Iteration #514: W_new = [44.68673063  3.88063998], MSE = 44.03648492297464\n",
      "Iteration #515: W_new = [44.69015762  3.88001855], MSE = 44.03525508184618\n",
      "Iteration #516: W_new = [44.69355335  3.87940279], MSE = 44.03404757054602\n",
      "Iteration #517: W_new = [44.69691812  3.87879264], MSE = 44.0328619836387\n",
      "Iteration #518: W_new = [44.7002522   3.87818805], MSE = 44.0316979230501\n",
      "Iteration #519: W_new = [44.70355587  3.87758898], MSE = 44.030554997933805\n",
      "Iteration #520: W_new = [44.70682942  3.87699538], MSE = 44.029432824539825\n",
      "Iteration #521: W_new = [44.7100731   3.87640718], MSE = 44.028331026085894\n",
      "Iteration #522: W_new = [44.71328721  3.87582435], MSE = 44.027249232630766\n",
      "Iteration #523: W_new = [44.71647201  3.87524684], MSE = 44.02618708095016\n",
      "Iteration #524: W_new = [44.71962776  3.8746746 ], MSE = 44.0251442144147\n",
      "Iteration #525: W_new = [44.72275472  3.87410757], MSE = 44.02412028287025\n",
      "Iteration #526: W_new = [44.72585318  3.87354571], MSE = 44.02311494252028\n",
      "Iteration #527: W_new = [44.72892337  3.87298898], MSE = 44.02212785581047\n",
      "Iteration #528: W_new = [44.73196556  3.87243732], MSE = 44.02115869131536\n",
      "Iteration #529: W_new = [44.73498001  3.8718907 ], MSE = 44.02020712362711\n",
      "Iteration #530: W_new = [44.73796697  3.87134906], MSE = 44.019272833246156\n",
      "Iteration #531: W_new = [44.74092669  3.87081236], MSE = 44.018355506474016\n",
      "Iteration #532: W_new = [44.74385941  3.87028056], MSE = 44.01745483530793\n",
      "Iteration #533: W_new = [44.74676539  3.8697536 ], MSE = 44.01657051733743\n",
      "Iteration #534: W_new = [44.74964487  3.86923145], MSE = 44.01570225564282\n",
      "Iteration #535: W_new = [44.75249808  3.86871407], MSE = 44.01484975869548\n",
      "Iteration #536: W_new = [44.75532528  3.8682014 ], MSE = 44.01401274025998\n",
      "Iteration #537: W_new = [44.75812669  3.86769341], MSE = 44.01319091929799\n",
      "Iteration #538: W_new = [44.76090255  3.86719005], MSE = 44.01238401987389\n",
      "Iteration #539: W_new = [44.76365309  3.86669128], MSE = 44.01159177106213\n",
      "Iteration #540: W_new = [44.76637856  3.86619706], MSE = 44.01081390685627\n",
      "Iteration #541: W_new = [44.76907916  3.86570735], MSE = 44.01005016607966\n",
      "Iteration #542: W_new = [44.77175514  3.8652221 ], MSE = 44.009300292297766\n",
      "Iteration #543: W_new = [44.77440671  3.86474128], MSE = 44.00856403373202\n",
      "Iteration #544: W_new = [44.7770341   3.86426484], MSE = 44.00784114317538\n",
      "Iteration #545: W_new = [44.77963753  3.86379275], MSE = 44.00713137790917\n",
      "Iteration #546: W_new = [44.78221721  3.86332496], MSE = 44.00643449962176\n",
      "Iteration #547: W_new = [44.78477337  3.86286144], MSE = 44.00575027432844\n",
      "Iteration #548: W_new = [44.78730621  3.86240215], MSE = 44.00507847229287\n",
      "Iteration #549: W_new = [44.78981596  3.86194705], MSE = 44.00441886794995\n",
      "Iteration #550: W_new = [44.79230282  3.86149609], MSE = 44.00377123983016\n",
      "Iteration #551: W_new = [44.794767    3.86104925], MSE = 44.00313537048505\n",
      "Iteration #552: W_new = [44.7972087   3.86060649], MSE = 44.00251104641435\n",
      "Iteration #553: W_new = [44.79962814  3.86016776], MSE = 44.00189805799423\n",
      "Iteration #554: W_new = [44.80202551  3.85973303], MSE = 44.00129619940695\n",
      "Iteration #555: W_new = [44.80440102  3.85930227], MSE = 44.00070526857176\n",
      "Iteration #556: W_new = [44.80675486  3.85887544], MSE = 44.00012506707694\n",
      "Iteration #557: W_new = [44.80908724  3.8584525 ], MSE = 43.999555400113344\n",
      "Iteration #558: W_new = [44.81139834  3.85803341], MSE = 43.99899607640889\n",
      "Iteration #559: W_new = [44.81368837  3.85761815], MSE = 43.99844690816438\n",
      "Iteration #560: W_new = [44.81595752  3.85720668], MSE = 43.99790771099039\n",
      "Iteration #561: W_new = [44.81820596  3.85679896], MSE = 43.997378303845394\n",
      "Iteration #562: W_new = [44.82043391  3.85639495], MSE = 43.996858508975016\n",
      "Iteration #563: W_new = [44.82264153  3.85599463], MSE = 43.99634815185228\n",
      "Iteration #564: W_new = [44.82482902  3.85559797], MSE = 43.99584706111908\n",
      "Iteration #565: W_new = [44.82699657  3.85520492], MSE = 43.995355068528525\n",
      "Iteration #566: W_new = [44.82914434  3.85481545], MSE = 43.9948720088886\n",
      "Iteration #567: W_new = [44.83127253  3.85442954], MSE = 43.9943977200066\n",
      "Iteration #568: W_new = [44.8333813   3.85404714], MSE = 43.99393204263472\n",
      "Iteration #569: W_new = [44.83547085  3.85366824], MSE = 43.99347482041654\n",
      "Iteration #570: W_new = [44.83754134  3.85329279], MSE = 43.99302589983455\n",
      "Iteration #571: W_new = [44.83959294  3.85292076], MSE = 43.992585130158645\n",
      "Iteration #572: W_new = [44.84162584  3.85255212], MSE = 43.99215236339544\n",
      "Iteration #573: W_new = [44.84364019  3.85218685], MSE = 43.99172745423864\n",
      "Iteration #574: W_new = [44.84563618  3.85182491], MSE = 43.991310260020214\n",
      "Iteration #575: W_new = [44.84761396  3.85146627], MSE = 43.99090064066252\n",
      "Iteration #576: W_new = [44.84957371  3.8511109 ], MSE = 43.99049845863127\n",
      "Iteration #577: W_new = [44.85151558  3.85075877], MSE = 43.990103578889325\n",
      "Iteration #578: W_new = [44.85343974  3.85040985], MSE = 43.98971586885135\n",
      "Iteration #579: W_new = [44.85534635  3.85006412], MSE = 43.98933519833936\n",
      "Iteration #580: W_new = [44.85723558  3.84972154], MSE = 43.98896143953898\n",
      "Iteration #581: W_new = [44.85910758  3.84938208], MSE = 43.98859446695646\n",
      "Iteration #582: W_new = [44.8609625   3.84904572], MSE = 43.988234157376645\n",
      "Iteration #583: W_new = [44.86280051  3.84871242], MSE = 43.98788038982154\n",
      "Iteration #584: W_new = [44.86462175  3.84838217], MSE = 43.987533045509736\n",
      "Iteration #585: W_new = [44.86642639  3.84805493], MSE = 43.98719200781646\n",
      "Iteration #586: W_new = [44.86821456  3.84773067], MSE = 43.98685716223447\n",
      "Iteration #587: W_new = [44.86998643  3.84740937], MSE = 43.98652839633563\n",
      "Iteration #588: W_new = [44.87174214  3.847091  ], MSE = 43.98620559973303\n",
      "Iteration #589: W_new = [44.87348184  3.84677553], MSE = 43.98588866404416\n",
      "Iteration #590: W_new = [44.87520567  3.84646294], MSE = 43.985577482854275\n",
      "Iteration #591: W_new = [44.87691378  3.8461532 ], MSE = 43.98527195168077\n",
      "Iteration #592: W_new = [44.87860631  3.84584629], MSE = 43.98497196793816\n",
      "Iteration #593: W_new = [44.88028341  3.84554217], MSE = 43.98467743090352\n",
      "Iteration #594: W_new = [44.88194521  3.84524083], MSE = 43.98438824168271\n",
      "Iteration #595: W_new = [44.88359186  3.84494223], MSE = 43.984104303177226\n",
      "Iteration #596: W_new = [44.88522348  3.84464636], MSE = 43.98382552005153\n",
      "Iteration #597: W_new = [44.88684023  3.84435319], MSE = 43.98355179870102\n",
      "Iteration #598: W_new = [44.88844224  3.84406269], MSE = 43.98328304722072\n",
      "Iteration #599: W_new = [44.89002963  3.84377484], MSE = 43.98301917537428\n",
      "Iteration #600: W_new = [44.89160255  3.84348962], MSE = 43.98276009456375\n",
      "Iteration #601: W_new = [44.89316112  3.843207  ], MSE = 43.982505717799874\n",
      "Iteration #602: W_new = [44.89470548  3.84292695], MSE = 43.98225595967276\n",
      "Iteration #603: W_new = [44.89623575  3.84264946], MSE = 43.982010736323325\n",
      "Iteration #604: W_new = [44.89775207  3.8423745 ], MSE = 43.98176996541508\n",
      "Iteration #605: W_new = [44.89925456  3.84210204], MSE = 43.98153356610649\n",
      "Iteration #606: W_new = [44.90074334  3.84183208], MSE = 43.981301459023825\n",
      "Iteration #607: W_new = [44.90221855  3.84156457], MSE = 43.98107356623452\n",
      "Iteration #608: W_new = [44.90368031  3.8412995 ], MSE = 43.980849811221034\n",
      "Iteration #609: W_new = [44.90512873  3.84103685], MSE = 43.98063011885507\n",
      "Iteration #610: W_new = [44.90656394  3.8407766 ], MSE = 43.98041441537248\n",
      "Iteration #611: W_new = [44.90798607  3.84051872], MSE = 43.980202628348366\n",
      "Iteration #612: W_new = [44.90939523  3.84026319], MSE = 43.979994686672896\n",
      "Iteration #613: W_new = [44.91079153  3.84000999], MSE = 43.97979052052727\n",
      "Iteration #614: W_new = [44.9121751  3.8397591], MSE = 43.97959006136046\n",
      "Iteration #615: W_new = [44.91354605  3.8395105 ], MSE = 43.97939324186601\n",
      "Iteration #616: W_new = [44.9149045   3.83926417], MSE = 43.979199995959576\n",
      "Iteration #617: W_new = [44.91625056  3.83902008], MSE = 43.97901025875669\n",
      "Iteration #618: W_new = [44.91758434  3.83877822], MSE = 43.97882396655093\n",
      "Iteration #619: W_new = [44.91890596  3.83853856], MSE = 43.9786410567926\n",
      "Iteration #620: W_new = [44.92021553  3.83830109], MSE = 43.97846146806772\n",
      "Iteration #621: W_new = [44.92151315  3.83806579], MSE = 43.97828514007732\n",
      "Iteration #622: W_new = [44.92279894  3.83783263], MSE = 43.97811201361732\n",
      "Iteration #623: W_new = [44.92407301  3.8376016 ], MSE = 43.977942030558566\n",
      "Iteration #624: W_new = [44.92533545  3.83737268], MSE = 43.97777513382732\n",
      "Iteration #625: W_new = [44.92658638  3.83714584], MSE = 43.977611267386145\n",
      "Iteration #626: W_new = [44.9278259   3.83692107], MSE = 43.97745037621505\n",
      "Iteration #627: W_new = [44.92905412  3.83669835], MSE = 43.97729240629301\n",
      "Iteration #628: W_new = [44.93027114  3.83647767], MSE = 43.97713730457983\n",
      "Iteration #629: W_new = [44.93147705  3.83625899], MSE = 43.97698501899838\n",
      "Iteration #630: W_new = [44.93267197  3.83604231], MSE = 43.976835498417074\n",
      "Iteration #631: W_new = [44.933856    3.83582761], MSE = 43.97668869263269\n",
      "Iteration #632: W_new = [44.93502922  3.83561486], MSE = 43.97654455235354\n",
      "Iteration #633: W_new = [44.93619174  3.83540405], MSE = 43.9764030291829\n",
      "Iteration #634: W_new = [44.93734367  3.83519517], MSE = 43.97626407560278\n",
      "Iteration #635: W_new = [44.93848508  3.83498819], MSE = 43.976127644957955\n",
      "Iteration #636: W_new = [44.93961609  3.8347831 ], MSE = 43.9759936914403\n",
      "Iteration #637: W_new = [44.94073678  3.83457988], MSE = 43.97586217007341\n",
      "Iteration #638: W_new = [44.94184725  3.83437852], MSE = 43.97573303669752\n",
      "Iteration #639: W_new = [44.9429476   3.83417899], MSE = 43.975606247954666\n",
      "Iteration #640: W_new = [44.94403791  3.83398127], MSE = 43.97548176127407\n",
      "Iteration #641: W_new = [44.94511827  3.83378537], MSE = 43.97535953485793\n",
      "Iteration #642: W_new = [44.94618878  3.83359125], MSE = 43.97523952766738\n",
      "Iteration #643: W_new = [44.94724953  3.8333989 ], MSE = 43.97512169940864\n",
      "Iteration #644: W_new = [44.94830061  3.8332083 ], MSE = 43.975006010519564\n",
      "Iteration #645: W_new = [44.9493421   3.83301944], MSE = 43.974892422156294\n",
      "Iteration #646: W_new = [44.95037409  3.83283231], MSE = 43.974780896180256\n",
      "Iteration #647: W_new = [44.95139667  3.83264688], MSE = 43.974671395145364\n",
      "Iteration #648: W_new = [44.95240992  3.83246314], MSE = 43.97456388228541\n",
      "Iteration #649: W_new = [44.95341394  3.83228108], MSE = 43.97445832150176\n",
      "Iteration #650: W_new = [44.95440879  3.83210067], MSE = 43.974354677351144\n",
      "Iteration #651: W_new = [44.95539458  3.83192192], MSE = 43.97425291503393\n",
      "\n",
      "THE END\n",
      "Iteration #652: W_new = [44.95637137  3.83174479], MSE = 43.97415300038226, MSE_pred = 43.97425291503393\n"
     ]
    }
   ],
   "source": [
    "n = X.shape[1]\n",
    "alpha = 1e-2\n",
    "W = np.array([1, .5])\n",
    "stop = 1e-4  # цикл поиска наименьшей ошибки будет прерываться, когда изменения между соседними\n",
    "             # значениями будет разница,равная и меньше этого параметра\n",
    "previous_value = 1000\n",
    "\n",
    "for i in range(1000):\n",
    "    y_pred = np.dot(W, X)\n",
    "    value = np.mean((y - y_pred) ** 2)\n",
    "    W -= alpha * (1 / n * 2 * np.sum((X * (y_pred - y)), axis=1))\n",
    "    if previous_value and abs(previous_value - value) < stop:\n",
    "        break\n",
    "    previous_value = value\n",
    "    print(f'Iteration #{i}: W_new = {W}, MSE = {value}')\n",
    "print(f'\\nTHE END\\nIteration #{i}: W_new = {W}, MSE = {value}, MSE_pred = {previous_value}')"
   ]
  }
 ],
 "metadata": {
  "colab": {
   "collapsed_sections": [],
   "name": "Lesson_1_script.ipynb",
   "provenance": []
  },
  "kernelspec": {
   "display_name": "Python 3 (ipykernel)",
   "language": "python",
   "name": "python3"
  },
  "language_info": {
   "codemirror_mode": {
    "name": "ipython",
    "version": 3
   },
   "file_extension": ".py",
   "mimetype": "text/x-python",
   "name": "python",
   "nbconvert_exporter": "python",
   "pygments_lexer": "ipython3",
   "version": "3.10.6"
  }
 },
 "nbformat": 4,
 "nbformat_minor": 1
}
